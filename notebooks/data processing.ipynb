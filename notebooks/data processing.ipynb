{
 "cells": [
  {
   "cell_type": "code",
   "execution_count": 1,
   "metadata": {},
   "outputs": [],
   "source": [
    "%load_ext autoreload"
   ]
  },
  {
   "cell_type": "code",
   "execution_count": 2,
   "metadata": {},
   "outputs": [],
   "source": [
    "%autoreload 2\n",
    "%matplotlib inline\n",
    "from sqlalchemy import create_engine\n",
    "from sqlalchemy.orm import sessionmaker\n",
    "import pandas as pd\n",
    "import numpy as np\n",
    "import pickle\n",
    "from orion.core.orms.mag_orm import Paper"
   ]
  },
  {
   "cell_type": "code",
   "execution_count": 5,
   "metadata": {},
   "outputs": [],
   "source": [
    "# Read the configuration file and create a session.\n",
    "# db_config = 'postgres+psycopg2://postgres@localhost/disinfo'\n",
    "db_config = 'postgres+psycopg2://postgres@localhost:5432/arxiv_deployment'\n",
    "engine = create_engine(db_config)\n",
    "Session = sessionmaker(engine)\n",
    "s = Session()"
   ]
  },
  {
   "cell_type": "code",
   "execution_count": 7,
   "metadata": {},
   "outputs": [],
   "source": [
    "papers = pd.read_sql(s.query(Paper).statement, s.bind)"
   ]
  },
  {
   "cell_type": "code",
   "execution_count": 8,
   "metadata": {},
   "outputs": [
    {
     "data": {
      "text/plain": [
       "(15636, 14)"
      ]
     },
     "execution_count": 8,
     "metadata": {},
     "output_type": "execute_result"
    }
   ],
   "source": [
    "papers.shape"
   ]
  },
  {
   "cell_type": "code",
   "execution_count": 11,
   "metadata": {},
   "outputs": [],
   "source": [
    "papers['abstract'] = papers.abstract.apply(lambda x: np.nan if x == 'NaN' else x)"
   ]
  },
  {
   "cell_type": "code",
   "execution_count": 13,
   "metadata": {},
   "outputs": [],
   "source": [
    "papers = papers[~papers.abstract.isnull()]"
   ]
  },
  {
   "cell_type": "code",
   "execution_count": 17,
   "metadata": {},
   "outputs": [],
   "source": [
    "papers = papers[[\"original_title\", 'abstract', 'year', 'citations', 'id']]"
   ]
  },
  {
   "cell_type": "code",
   "execution_count": 18,
   "metadata": {},
   "outputs": [
    {
     "name": "stdout",
     "output_type": "stream",
     "text": [
      "/Users/kstathou/Desktop/vector_engine/notebooks\n"
     ]
    }
   ],
   "source": [
    "!pwd"
   ]
  },
  {
   "cell_type": "code",
   "execution_count": 19,
   "metadata": {},
   "outputs": [],
   "source": [
    "papers.to_csv('../arxiv_computation_and_language_papers.csv', index=False)"
   ]
  },
  {
   "cell_type": "code",
   "execution_count": 20,
   "metadata": {},
   "outputs": [
    {
     "data": {
      "text/html": [
       "<div>\n",
       "<style scoped>\n",
       "    .dataframe tbody tr th:only-of-type {\n",
       "        vertical-align: middle;\n",
       "    }\n",
       "\n",
       "    .dataframe tbody tr th {\n",
       "        vertical-align: top;\n",
       "    }\n",
       "\n",
       "    .dataframe thead th {\n",
       "        text-align: right;\n",
       "    }\n",
       "</style>\n",
       "<table border=\"1\" class=\"dataframe\">\n",
       "  <thead>\n",
       "    <tr style=\"text-align: right;\">\n",
       "      <th></th>\n",
       "      <th>original_title</th>\n",
       "      <th>abstract</th>\n",
       "      <th>year</th>\n",
       "      <th>citations</th>\n",
       "      <th>id</th>\n",
       "    </tr>\n",
       "  </thead>\n",
       "  <tbody>\n",
       "    <tr>\n",
       "      <th>0</th>\n",
       "      <td>TnT - A Statistical Part-of-Speech Tagger</td>\n",
       "      <td>Trigrams'n'Tags (TnT) is an efficient statisti...</td>\n",
       "      <td>2000</td>\n",
       "      <td>139</td>\n",
       "      <td>2950121111</td>\n",
       "    </tr>\n",
       "    <tr>\n",
       "      <th>1</th>\n",
       "      <td>Finding consensus in speech recognition: word ...</td>\n",
       "      <td>We describe a new framework for distilling inf...</td>\n",
       "      <td>2000</td>\n",
       "      <td>6</td>\n",
       "      <td>2950530224</td>\n",
       "    </tr>\n",
       "    <tr>\n",
       "      <th>2</th>\n",
       "      <td>Introduction to the CoNLL-2000 Shared Task: Ch...</td>\n",
       "      <td>We describe the CoNLL-2000 shared task: dividi...</td>\n",
       "      <td>2000</td>\n",
       "      <td>85</td>\n",
       "      <td>2951299559</td>\n",
       "    </tr>\n",
       "    <tr>\n",
       "      <th>3</th>\n",
       "      <td>An Experimental Comparison of Naive Bayesian a...</td>\n",
       "      <td>The growing problem of unsolicited bulk e-mail...</td>\n",
       "      <td>2000</td>\n",
       "      <td>24</td>\n",
       "      <td>2950903179</td>\n",
       "    </tr>\n",
       "    <tr>\n",
       "      <th>4</th>\n",
       "      <td>Advances in domain independent linear text seg...</td>\n",
       "      <td>This paper describes a method for linear text ...</td>\n",
       "      <td>2000</td>\n",
       "      <td>1</td>\n",
       "      <td>2952011814</td>\n",
       "    </tr>\n",
       "    <tr>\n",
       "      <th>...</th>\n",
       "      <td>...</td>\n",
       "      <td>...</td>\n",
       "      <td>...</td>\n",
       "      <td>...</td>\n",
       "      <td>...</td>\n",
       "    </tr>\n",
       "    <tr>\n",
       "      <th>15631</th>\n",
       "      <td>Proofing Tools Technology at Neurosoft S.A.</td>\n",
       "      <td>The aim of this paper is to present the R&amp;D ac...</td>\n",
       "      <td>2004</td>\n",
       "      <td>1</td>\n",
       "      <td>1615876584</td>\n",
       "    </tr>\n",
       "    <tr>\n",
       "      <th>15632</th>\n",
       "      <td>Semantic filtering by inference on domain know...</td>\n",
       "      <td>General natural dialogue processing requires l...</td>\n",
       "      <td>2004</td>\n",
       "      <td>0</td>\n",
       "      <td>182226558</td>\n",
       "    </tr>\n",
       "    <tr>\n",
       "      <th>15633</th>\n",
       "      <td>Verbal chunk extraction in French using limite...</td>\n",
       "      <td>A way of extracting French verbal chunks, infl...</td>\n",
       "      <td>2004</td>\n",
       "      <td>0</td>\n",
       "      <td>2119727567</td>\n",
       "    </tr>\n",
       "    <tr>\n",
       "      <th>15634</th>\n",
       "      <td>NLOMJ--Natural Language Object Model in Java</td>\n",
       "      <td>In this paper we present NLOMJ--a natural lang...</td>\n",
       "      <td>2004</td>\n",
       "      <td>0</td>\n",
       "      <td>2949759040</td>\n",
       "    </tr>\n",
       "    <tr>\n",
       "      <th>15635</th>\n",
       "      <td>A Probabilistic Model of Machine Translation</td>\n",
       "      <td>A probabilistic model for computer-based gener...</td>\n",
       "      <td>2004</td>\n",
       "      <td>0</td>\n",
       "      <td>1621562970</td>\n",
       "    </tr>\n",
       "  </tbody>\n",
       "</table>\n",
       "<p>15629 rows × 5 columns</p>\n",
       "</div>"
      ],
      "text/plain": [
       "                                          original_title  \\\n",
       "0              TnT - A Statistical Part-of-Speech Tagger   \n",
       "1      Finding consensus in speech recognition: word ...   \n",
       "2      Introduction to the CoNLL-2000 Shared Task: Ch...   \n",
       "3      An Experimental Comparison of Naive Bayesian a...   \n",
       "4      Advances in domain independent linear text seg...   \n",
       "...                                                  ...   \n",
       "15631        Proofing Tools Technology at Neurosoft S.A.   \n",
       "15632  Semantic filtering by inference on domain know...   \n",
       "15633  Verbal chunk extraction in French using limite...   \n",
       "15634       NLOMJ--Natural Language Object Model in Java   \n",
       "15635       A Probabilistic Model of Machine Translation   \n",
       "\n",
       "                                                abstract  year  citations  \\\n",
       "0      Trigrams'n'Tags (TnT) is an efficient statisti...  2000        139   \n",
       "1      We describe a new framework for distilling inf...  2000          6   \n",
       "2      We describe the CoNLL-2000 shared task: dividi...  2000         85   \n",
       "3      The growing problem of unsolicited bulk e-mail...  2000         24   \n",
       "4      This paper describes a method for linear text ...  2000          1   \n",
       "...                                                  ...   ...        ...   \n",
       "15631  The aim of this paper is to present the R&D ac...  2004          1   \n",
       "15632  General natural dialogue processing requires l...  2004          0   \n",
       "15633  A way of extracting French verbal chunks, infl...  2004          0   \n",
       "15634  In this paper we present NLOMJ--a natural lang...  2004          0   \n",
       "15635  A probabilistic model for computer-based gener...  2004          0   \n",
       "\n",
       "               id  \n",
       "0      2950121111  \n",
       "1      2950530224  \n",
       "2      2951299559  \n",
       "3      2950903179  \n",
       "4      2952011814  \n",
       "...           ...  \n",
       "15631  1615876584  \n",
       "15632   182226558  \n",
       "15633  2119727567  \n",
       "15634  2949759040  \n",
       "15635  1621562970  \n",
       "\n",
       "[15629 rows x 5 columns]"
      ]
     },
     "execution_count": 20,
     "metadata": {},
     "output_type": "execute_result"
    }
   ],
   "source": [
    "papers"
   ]
  },
  {
   "cell_type": "code",
   "execution_count": null,
   "metadata": {},
   "outputs": [],
   "source": []
  }
 ],
 "metadata": {
  "kernelspec": {
   "display_name": "Python [conda env:myenv]",
   "language": "python",
   "name": "conda-env-myenv-py"
  },
  "language_info": {
   "codemirror_mode": {
    "name": "ipython",
    "version": 3
   },
   "file_extension": ".py",
   "mimetype": "text/x-python",
   "name": "python",
   "nbconvert_exporter": "python",
   "pygments_lexer": "ipython3",
   "version": "3.7.6"
  }
 },
 "nbformat": 4,
 "nbformat_minor": 4
}
